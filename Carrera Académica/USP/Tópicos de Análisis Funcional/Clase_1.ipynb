{
 "cells": [
  {
   "cell_type": "markdown",
   "id": "dd353052",
   "metadata": {},
   "source": [
    "# Clase 1"
   ]
  },
  {
   "cell_type": "markdown",
   "id": "ca908e42",
   "metadata": {},
   "source": [
    "Los espacios de Banach (y Hilbert) de este curso serán considerados en un cuerpo $\\mathbb{K}$ que puede ser $\\mathbb{R}$ ó $\\mathbb{C}.$ Vamos a denotar por $\\Theta$ el cero del espacio vectorial.\n",
    "\n",
    "**Definición** *Sea $E$ un espacio vectorial sobre $\\mathbb{K}.$ Una seminorma es una función $\\displaystyle p:E\\to{[0,\\infty)}$ tal que para todo $x,y\\in{E}$ e todo $\\alpha\\in\\mathbb{K},$*\n",
    "- *Subaditividad:* $p(x+y)\\leq{p(x)+p(y)},$ \n",
    "- *Homogeneidad absoluta:* $p(\\alpha x)=|\\alpha|p(x).$"
   ]
  },
  {
   "cell_type": "markdown",
   "id": "45f22aa4",
   "metadata": {},
   "source": [
    "## Ejercicio 1: Mostrar que $p(\\Theta)=0.$"
   ]
  },
  {
   "cell_type": "markdown",
   "id": "f0b9d93e",
   "metadata": {},
   "source": [
    "**Solución:** Notemos que por la propiedad de homogeneidad absoluta, para todo $x\\in{E}$ y toda seminorma $p$ definida sobre $E,$\n",
    "\n",
    "$$p(\\Theta)=p(0x)=|0|p(x)\\Rightarrow{p(\\Theta)=0}.$$"
   ]
  },
  {
   "cell_type": "markdown",
   "id": "717c4eb2",
   "metadata": {},
   "source": [
    "## Ejercicio 2: Mostrar que dada una seminorma $p$ definida sobre $E,$ $p(x)=0$ no implica necesariamente que $x=\\Theta.$ "
   ]
  },
  {
   "cell_type": "markdown",
   "id": "55b08f3a",
   "metadata": {},
   "source": [
    "**Solución:** Sean $x,y\\in{E\\setminus{\\Theta}}$ tal que $p(x)=p(y)=0.$ Luego, para todo $z=\\alpha x + \\beta y$ con $\\alpha,\\beta\\neq{0}$ tenemos que \n",
    "\n",
    "$$0\\leq{p(z)}\\leq{0}.$$\n",
    "\n",
    "Así, existen vectores $x\\in E\\setminus{\\Theta}$ tales que $p(x)=0.$ "
   ]
  },
  {
   "cell_type": "markdown",
   "id": "27db45f9",
   "metadata": {},
   "source": [
    "**Definición:** Dados espacios normados $E,F$ sobre $\\mathbb{K},$ un operador lineal $L:E\\to{F}$ se dice acotado si \n",
    "\n",
    "$$\\sup_{x\\neq{0}}\\,\\frac{||L(x)||_{F}}{||x||_{E}}\\,<\\infty.$$\n",
    "\n",
    "El conjunto de todos los operadores lineales limitados de $E$ en $F$ será denotado por $\\mathcal{L}(E,F).$"
   ]
  },
  {
   "cell_type": "code",
   "execution_count": null,
   "id": "c992d29e",
   "metadata": {},
   "outputs": [],
   "source": []
  }
 ],
 "metadata": {
  "kernelspec": {
   "display_name": "Python 3",
   "language": "python",
   "name": "python3"
  },
  "language_info": {
   "codemirror_mode": {
    "name": "ipython",
    "version": 3
   },
   "file_extension": ".py",
   "mimetype": "text/x-python",
   "name": "python",
   "nbconvert_exporter": "python",
   "pygments_lexer": "ipython3",
   "version": "3.8.8"
  }
 },
 "nbformat": 4,
 "nbformat_minor": 5
}
